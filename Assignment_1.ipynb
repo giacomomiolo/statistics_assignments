{
 "cells": [
  {
   "cell_type": "code",
   "execution_count": 3,
   "metadata": {},
   "outputs": [],
   "source": [
    "import pandas as pd"
   ]
  },
  {
   "cell_type": "code",
   "execution_count": 4,
   "metadata": {},
   "outputs": [],
   "source": [
    "# 1) Import the \"toy_HF\" dataset from the folder HF, using the first row as column titles (0.5 point)\n",
    "\n",
    "# header = 0 is the default value where column names are inferred from the first row of the file.\n",
    "\n",
    "df_toy = pd.read_csv(\"/Users/giacomomiolo/Desktop/BABD/Statistics/Ieva/Dataset for assignments/HF/toy_HF.txt\", delimiter = \" \", header = 0)"
   ]
  },
  {
   "cell_type": "code",
   "execution_count": 5,
   "metadata": {},
   "outputs": [
    {
     "name": "stdout",
     "output_type": "stream",
     "text": [
      "(2090, 25)\n"
     ]
    }
   ],
   "source": [
    "# 2) What are the sizes of the dataset? (0.5 points)\n",
    "\n",
    "print(df_toy.shape)"
   ]
  },
  {
   "cell_type": "code",
   "execution_count": 15,
   "metadata": {},
   "outputs": [
    {
     "data": {
      "text/html": [
       "<div>\n",
       "<style scoped>\n",
       "    .dataframe tbody tr th:only-of-type {\n",
       "        vertical-align: middle;\n",
       "    }\n",
       "\n",
       "    .dataframe tbody tr th {\n",
       "        vertical-align: top;\n",
       "    }\n",
       "\n",
       "    .dataframe thead th {\n",
       "        text-align: right;\n",
       "    }\n",
       "</style>\n",
       "<table border=\"1\" class=\"dataframe\">\n",
       "  <thead>\n",
       "    <tr style=\"text-align: right;\">\n",
       "      <th></th>\n",
       "      <th>AGE</th>\n",
       "      <th>SEX</th>\n",
       "      <th>nADM</th>\n",
       "    </tr>\n",
       "  </thead>\n",
       "  <tbody>\n",
       "    <tr>\n",
       "      <th>1</th>\n",
       "      <td>76</td>\n",
       "      <td>1</td>\n",
       "      <td>1</td>\n",
       "    </tr>\n",
       "    <tr>\n",
       "      <th>2</th>\n",
       "      <td>61</td>\n",
       "      <td>1</td>\n",
       "      <td>1</td>\n",
       "    </tr>\n",
       "    <tr>\n",
       "      <th>3</th>\n",
       "      <td>65</td>\n",
       "      <td>1</td>\n",
       "      <td>2</td>\n",
       "    </tr>\n",
       "    <tr>\n",
       "      <th>4</th>\n",
       "      <td>65</td>\n",
       "      <td>1</td>\n",
       "      <td>3</td>\n",
       "    </tr>\n",
       "    <tr>\n",
       "      <th>5</th>\n",
       "      <td>65</td>\n",
       "      <td>1</td>\n",
       "      <td>4</td>\n",
       "    </tr>\n",
       "  </tbody>\n",
       "</table>\n",
       "</div>"
      ],
      "text/plain": [
       "   AGE  SEX  nADM\n",
       "1   76    1     1\n",
       "2   61    1     1\n",
       "3   65    1     2\n",
       "4   65    1     3\n",
       "5   65    1     4"
      ]
     },
     "execution_count": 15,
     "metadata": {},
     "output_type": "execute_result"
    }
   ],
   "source": [
    "# 3) Extract the \"age\", \"sex\", and \"adm_number\" columns, and give the new dataset the column's names \"AGE\", \"SEX\" and \"nADM\" (2 point)\n",
    "# Note: once you build the new dataset, use the command \"x <- as.data.frame(x)\" to make it a data.frame\n",
    "\n",
    "df = df_toy[[\"age\", \"sex\", \"adm_number\"]]\n",
    "\n",
    "# inplace set to Flase (default) wouldn't modify the df, just returning the result of the operation\n",
    "df.rename(columns={\"age\": \"AGE\", \"sex\": \"SEX\", \"adm_number\": \"nADM\"}, inplace=True)\n",
    "df.head(5)"
   ]
  },
  {
   "cell_type": "code",
   "execution_count": 102,
   "metadata": {},
   "outputs": [
    {
     "name": "stdout",
     "output_type": "stream",
     "text": [
      "1    1000\n",
      "2     418\n",
      "3     235\n",
      "Name: nADM, dtype: int64\n",
      "\n",
      "Patients with 1 admission: 1000, with 2: 418, with 3: 235.\n"
     ]
    }
   ],
   "source": [
    "# 4) How many patients have 1 admission? How many 2? How many 3?  (1.5 points)\n",
    "\n",
    "# Quick way, .value_counts() method returns the number of unique values in a column, then selecting first 3\n",
    "a = df[\"nADM\"].value_counts()[:3]\n",
    "\n",
    "# Other way\n",
    "one = df[\"nADM\"].loc[df[\"nADM\"] == 1].count()\n",
    "two = df[\"nADM\"].loc[df[\"nADM\"] == 2].count()\n",
    "three = df[\"nADM\"].loc[df[\"nADM\"] == 3].count()\n",
    "\n",
    "print(a)\n",
    "print(f\"\\nPatients with 1 admission: {one}, with 2: {two}, with 3: {three}.\")"
   ]
  },
  {
   "cell_type": "code",
   "execution_count": 109,
   "metadata": {},
   "outputs": [
    {
     "name": "stdout",
     "output_type": "stream",
     "text": [
      "52.15311004784689\n",
      "52.15311004784689\n"
     ]
    }
   ],
   "source": [
    "# 5) What is the percentage of readmitted patients in the dataset?   (1 point)\n",
    "\n",
    "# All but the ones with 1 admission\n",
    "\n",
    "# Quick way\n",
    "perc_one_admission = df[\"nADM\"].value_counts(normalize=True)[1]\n",
    "perc_readmission = (1 - perc_one_admission)*100\n",
    "print(perc_readmission)\n",
    "\n",
    "# Other way\n",
    "not_one = df[\"nADM\"].loc[df[\"nADM\"] != 1].count()\n",
    "total = df[\"nADM\"].count()\n",
    "perc_readmitted = not_one/total*100\n",
    "print(perc_readmitted)\n"
   ]
  },
  {
   "cell_type": "code",
   "execution_count": 68,
   "metadata": {},
   "outputs": [
    {
     "data": {
      "text/plain": [
       "1     76\n",
       "2     61\n",
       "7     74\n",
       "16    72\n",
       "17    73\n",
       "18    92\n",
       "19    60\n",
       "20    76\n",
       "21    77\n",
       "22    57\n",
       "Name: AGE, dtype: int64"
      ]
     },
     "execution_count": 68,
     "metadata": {},
     "output_type": "execute_result"
    }
   ],
   "source": [
    "# 6) Select the age of patients at their first admission (1.5 points)\n",
    "\n",
    "df[\"AGE\"].loc[df[\"nADM\"] == 1].head(10)"
   ]
  },
  {
   "cell_type": "code",
   "execution_count": 61,
   "metadata": {},
   "outputs": [
    {
     "data": {
      "text/plain": [
       "71.18277511961722"
      ]
     },
     "execution_count": 61,
     "metadata": {},
     "output_type": "execute_result"
    }
   ],
   "source": [
    "# 7) Compute the mean of the AGE vector. Use help command, if needed  (0.5 points)\n",
    "\n",
    "df[\"AGE\"].mean()"
   ]
  },
  {
   "cell_type": "code",
   "execution_count": 84,
   "metadata": {},
   "outputs": [
    {
     "data": {
      "text/plain": [
       "66.78239608801955"
      ]
     },
     "execution_count": 84,
     "metadata": {},
     "output_type": "execute_result"
    }
   ],
   "source": [
    "# 8) Compute the mean age of men and women at their first hospitalization. What is higher? (2.5 points)\n",
    "\n",
    "df[\"AGE\"].loc[(df[\"SEX\"] == 1) & (df[\"nADM\"] == 1)].mean() # Males"
   ]
  },
  {
   "cell_type": "code",
   "execution_count": 85,
   "metadata": {},
   "outputs": [
    {
     "data": {
      "text/plain": [
       "74.51269035532995"
      ]
     },
     "execution_count": 85,
     "metadata": {},
     "output_type": "execute_result"
    }
   ],
   "source": [
    "df[\"AGE\"].loc[(df[\"SEX\"] == 0) & (df[\"nADM\"] == 1)].mean() # Females"
   ]
  },
  {
   "cell_type": "code",
   "execution_count": null,
   "metadata": {},
   "outputs": [],
   "source": []
  }
 ],
 "metadata": {
  "kernelspec": {
   "display_name": "Python 3",
   "language": "python",
   "name": "python3"
  },
  "language_info": {
   "codemirror_mode": {
    "name": "ipython",
    "version": 3
   },
   "file_extension": ".py",
   "mimetype": "text/x-python",
   "name": "python",
   "nbconvert_exporter": "python",
   "pygments_lexer": "ipython3",
   "version": "3.7.4"
  }
 },
 "nbformat": 4,
 "nbformat_minor": 4
}
